{
 "cells": [
  {
   "cell_type": "code",
   "execution_count": null,
   "metadata": {},
   "outputs": [],
   "source": [
    "%load_ext autoreload\n",
    "%autoreload 2\n",
    "\n",
    "import os\n",
    "from PIL import Image\n",
    "import matplotlib.pyplot as plt\n",
    "\n",
    "\n",
    "try:\n",
    "    from src.utils import OrthoLoader\n",
    "except ModuleNotFoundError:\n",
    "    import sys\n",
    "    sys.path.append('..')\n",
    "    from src.utils import OrthoLoader"
   ]
  },
  {
   "cell_type": "code",
   "execution_count": null,
   "metadata": {},
   "outputs": [],
   "source": [
    "x = 464999\n",
    "y = 5767000\n",
    "\n",
    "radius = 100\n",
    "\n",
    "data_dir = \"../data/orthophotos/nw\""
   ]
  },
  {
   "cell_type": "code",
   "execution_count": 8,
   "metadata": {},
   "outputs": [],
   "source": [
    "loader = OrthoLoader(x=x, y=y, radius=radius, data_dir=data_dir)\n",
    "\n",
    "if len(loader.target_files) > 1:\n",
    "    _map = loader.stitch_images()\n",
    "else:\n",
    "    _map = loader.load_img()\n",
    "\n",
    "loader.plot_map(_map, target=True)\n",
    "\n",
    "cropped = loader.crop_and_resize(_map)\n",
    "\n",
    "loader.plot_map(cropped)"
   ]
  }
 ],
 "metadata": {
  "kernelspec": {
   "display_name": ".venv",
   "language": "python",
   "name": "python3"
  },
  "language_info": {
   "codemirror_mode": {
    "name": "ipython",
    "version": 3
   },
   "file_extension": ".py",
   "mimetype": "text/x-python",
   "name": "python",
   "nbconvert_exporter": "python",
   "pygments_lexer": "ipython3",
   "version": "3.10.12"
  }
 },
 "nbformat": 4,
 "nbformat_minor": 2
}
