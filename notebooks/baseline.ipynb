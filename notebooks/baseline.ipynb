{
 "cells": [
  {
   "cell_type": "code",
   "execution_count": null,
   "metadata": {},
   "outputs": [],
   "source": [
    "%load_ext autoreload\n",
    "%autoreload 2\n",
    "from urllib.request import urlretrieve\n",
    "import zipfile\n",
    "import os\n",
    "\n",
    "try:\n",
    "    from src.utils import OrthoLoader\n",
    "except ModuleNotFoundError:\n",
    "    import sys\n",
    "    sys.path.append('..')\n",
    "    from src.utils import OrthoLoader"
   ]
  },
  {
   "cell_type": "code",
   "execution_count": null,
   "metadata": {},
   "outputs": [],
   "source": [
    "SAMPLE_URL = \"https://drive.usercontent.google.com/download?id=140PpLsdnVOQVIp5ia9jT_yvqtcWtF8Gj&export=download&confirm=t&uuid=483b1776-4e25-4976-9837-b498c823754a\"\n",
    "urlretrieve(SAMPLE_URL, \"orthophotos.zip\")\n",
    "\n",
    "# check if data dir exist and create otherwise\n",
    "if not os.path.exists(\"../data\"):\n",
    "    os.makedirs(\"../data\")\n",
    "\n",
    "with zipfile.ZipFile(\"orthophotos.zip\", 'r') as zip_ref:\n",
    "    zip_ref.extractall(\"../data\")\n"
   ]
  },
  {
   "cell_type": "code",
   "execution_count": null,
   "metadata": {},
   "outputs": [],
   "source": [
    "# the coordinates\n",
    "x = 464999\n",
    "y = 5767000\n",
    "\n",
    "radius = 100\n",
    "\n",
    "DATASET = \"../data/orthophotos/nw\""
   ]
  },
  {
   "cell_type": "code",
   "execution_count": null,
   "metadata": {},
   "outputs": [],
   "source": [
    "# create the loader object\n",
    "loader = OrthoLoader(x=x, y=y, radius=radius, data_dir=DATASET)\n",
    "# check if there is one or more images that need to be loaded to display the desired area\n",
    "if len(loader.target_files) > 1:\n",
    "    _map = loader.stitch_images()\n",
    "else:\n",
    "    _map = loader.load_img()\n",
    "\n",
    "# show an image of the entire map with the area highlighted that is going to be cropped\n",
    "loader.plot_map(_map, target=True)\n",
    "# crop and resize the map\n",
    "cropped = loader.crop_and_resize(_map)\n",
    "# show the resulting image\n",
    "loader.plot_map(cropped)"
   ]
  }
 ],
 "metadata": {
  "kernelspec": {
   "display_name": ".venv",
   "language": "python",
   "name": "python3"
  },
  "language_info": {
   "codemirror_mode": {
    "name": "ipython",
    "version": 3
   },
   "file_extension": ".py",
   "mimetype": "text/x-python",
   "name": "python",
   "nbconvert_exporter": "python",
   "pygments_lexer": "ipython3",
   "version": "3.10.12"
  }
 },
 "nbformat": 4,
 "nbformat_minor": 2
}
