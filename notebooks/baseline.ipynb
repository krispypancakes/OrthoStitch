{
 "cells": [
  {
   "cell_type": "code",
   "execution_count": null,
   "metadata": {},
   "outputs": [],
   "source": [
    "%load_ext autoreload\n",
    "%autoreload 2\n",
    "from urllib.request import urlretrieve\n",
    "import zipfile\n",
    "import os\n",
    "\n",
    "try:\n",
    "    from src.utils import OrthoLoader, get_image\n",
    "except ModuleNotFoundError:\n",
    "    import sys\n",
    "    sys.path.append('..')\n",
    "    from src.utils import OrthoLoader, get_image"
   ]
  },
  {
   "cell_type": "code",
   "execution_count": null,
   "metadata": {},
   "outputs": [],
   "source": [
    "SAMPLE_URL = \"https://drive.usercontent.google.com/download?id=140PpLsdnVOQVIp5ia9jT_yvqtcWtF8Gj&export=download&confirm=t&uuid=483b1776-4e25-4976-9837-b498c823754a\"\n",
    "urlretrieve(SAMPLE_URL, \"orthophotos.zip\")\n",
    "\n",
    "# check if data dir exist and create otherwise\n",
    "if not os.path.exists(\"../data\"):\n",
    "    os.makedirs(\"../data\")\n",
    "\n",
    "with zipfile.ZipFile(\"orthophotos.zip\", 'r') as zip_ref:\n",
    "    zip_ref.extractall(\"../data\")\n"
   ]
  },
  {
   "cell_type": "code",
   "execution_count": null,
   "metadata": {},
   "outputs": [],
   "source": [
    "# the coordinates\n",
    "x = 464999\n",
    "y = 5767000\n",
    "\n",
    "radius = 100\n",
    "\n",
    "DATASET = \"../data/orthophotos/nw\""
   ]
  },
  {
   "cell_type": "code",
   "execution_count": null,
   "metadata": {},
   "outputs": [],
   "source": [
    "%%time\n",
    "# choose _print=True to get visual output\n",
    "cropped_image = get_image(x, y, radius, DATASET, _print=False)"
   ]
  },
  {
   "cell_type": "code",
   "execution_count": null,
   "metadata": {},
   "outputs": [],
   "source": [
    "cropped_image = get_image(x, y, radius, DATASET, _print=True)"
   ]
  }
 ],
 "metadata": {
  "kernelspec": {
   "display_name": ".venv",
   "language": "python",
   "name": "python3"
  },
  "language_info": {
   "codemirror_mode": {
    "name": "ipython",
    "version": 3
   },
   "file_extension": ".py",
   "mimetype": "text/x-python",
   "name": "python",
   "nbconvert_exporter": "python",
   "pygments_lexer": "ipython3",
   "version": "3.10.12"
  }
 },
 "nbformat": 4,
 "nbformat_minor": 2
}
