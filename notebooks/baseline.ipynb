{
 "cells": [
  {
   "cell_type": "code",
   "execution_count": null,
   "metadata": {},
   "outputs": [],
   "source": [
    "%load_ext autoreload\n",
    "%autoreload 2\n",
    "\n",
    "import os\n",
    "from PIL import Image\n",
    "import matplotlib.pyplot as plt\n",
    "\n",
    "\n",
    "try:\n",
    "    from src.utils import OrthoLoader\n",
    "except ModuleNotFoundError:\n",
    "    import sys\n",
    "    sys.path.append('..')\n",
    "    from src.utils import OrthoLoader"
   ]
  },
  {
   "cell_type": "code",
   "execution_count": null,
   "metadata": {},
   "outputs": [],
   "source": [
    "x = 464999\n",
    "y = 5767000\n",
    "\n",
    "radius = 100\n",
    "\n",
    "data_dir = \"../data/orthophotos/nw\""
   ]
  },
  {
   "cell_type": "code",
   "execution_count": 8,
   "metadata": {},
   "outputs": [
    {
     "name": "stdout",
     "output_type": "stream",
     "text": [
      "X-values are same\n",
      "loading image ../data/orthophotos/nw/dop10rgbi_32_464_5766_1_nw_2022.jp2.\n"
     ]
    },
    {
     "name": "stderr",
     "output_type": "stream",
     "text": [
      "/Users/pt/hacking/hire-me/.venv/lib/python3.10/site-packages/PIL/Image.py:3167: DecompressionBombWarning: Image size (100000000 pixels) exceeds limit of 89478485 pixels, could be decompression bomb DOS attack.\n",
      "  warnings.warn(\n"
     ]
    },
    {
     "name": "stdout",
     "output_type": "stream",
     "text": [
      "loading image ../data/orthophotos/nw/dop10rgbi_32_464_5767_1_nw_2022.jp2.\n",
      "Concat files ../data/orthophotos/nw/dop10rgbi_32_464_5766_1_nw_2022.jp2 and ../data/orthophotos/nw/dop10rgbi_32_464_5767_1_nw_2022.jp2 along the Y-axis\n",
      "X-values are same\n",
      "loading image ../data/orthophotos/nw/dop10rgbi_32_465_5766_1_nw_2022.jp2.\n"
     ]
    }
   ],
   "source": [
    "loader = OrthoLoader(x=x, y=y, radius=radius, data_dir=data_dir)\n",
    "\n",
    "if len(loader.target_files) > 1:\n",
    "    _map = loader.stitch_images()\n",
    "else:\n",
    "    _map = loader.load_img()\n",
    "\n",
    "loader.plot_map(_map, target=True)\n",
    "\n",
    "cropped = loader.crop_and_resize(_map)\n",
    "\n",
    "loader.plot_map(cropped)"
   ]
  }
 ],
 "metadata": {
  "kernelspec": {
   "display_name": ".venv",
   "language": "python",
   "name": "python3"
  },
  "language_info": {
   "codemirror_mode": {
    "name": "ipython",
    "version": 3
   },
   "file_extension": ".py",
   "mimetype": "text/x-python",
   "name": "python",
   "nbconvert_exporter": "python",
   "pygments_lexer": "ipython3",
   "version": "3.10.12"
  }
 },
 "nbformat": 4,
 "nbformat_minor": 2
}
