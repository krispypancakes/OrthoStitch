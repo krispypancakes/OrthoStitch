{
  "cells": [
    {
      "cell_type": "markdown",
      "id": "ZsjcCQIJJ07S",
      "metadata": {
        "id": "ZsjcCQIJJ07S"
      },
      "source": []
    },
    {
      "cell_type": "markdown",
      "id": "474b374f",
      "metadata": {
        "id": "474b374f",
        "jupyter": {
          "source_hidden": false
        }
      },
      "source": [
        "# Syte Data Engineering Coding Challenge"
      ]
    },
    {
      "cell_type": "markdown",
      "id": "_x5TWoKB9Wii",
      "metadata": {
        "id": "_x5TWoKB9Wii"
      },
      "source": [
        "## Instructions"
      ]
    },
    {
      "cell_type": "markdown",
      "id": "rIJQnqsR8qU3",
      "metadata": {
        "id": "rIJQnqsR8qU3"
      },
      "source": [
        "### Goal\n",
        "\n",
        "Develop a preprocessing strategy in Python to fetch and stitch orthophotos based on geospatial queries.\n",
        "Deliver these images resized to `256x256` pixels. Additionally, optimize the performance and\n",
        "functionality benchmarking the throughput. Document the setup and idea behind it.\n",
        "\n",
        "### Colab Notebook\n",
        "\n",
        "Make sure to save this notebook by creating a copy in drive clicking in the menubar: *Changes will not be saved* -> *Save a copy in Drive*.\n",
        "\n",
        "### Task Definition\n",
        "#### 1. Required Technical Skills:\n",
        "* Proficiency in Python programming.\n",
        "* Knowledge of Geospatial data handling, GIS, and Coordinate Reference Systems (CRS).\n",
        "* Experience with image processing libraries in Python, such as PIL or OpenCV.\n",
        "\n",
        "\n",
        "#### 2. Sample Data:\n",
        "The provided notebook will download a sample of 64 orthophotos which are a small subset of the full dataset. They correspond to a rectangular\n",
        "region from `462000,5766000` to `469999,5773999` in EPSG:25832 CRS. Each image is a `.jp2` file with a resolution of `10000x10000` pixels.\n",
        "\n",
        "Notice that the filenames from this dataset encode the geospatial coordinates range. For example, the filename `dop10rgbi_32_280_5659_1_nw_2021.jp2`\n",
        "corresponds to latitude ranging from `280,000` to `280,999` and longitude from `5659,000` to `5659,999` in the EPSG:25832 CRS.\n",
        "You will need to extract latitude and longitude from the filenames to pinpoint and retrieve the images relevant to given queries.\n",
        "\n",
        "For this challenge please consider that the actual dataset would be much larger and not fit in memory all at once. Imagine that the images were being\n",
        "retrieved over network on the fly. We encourage you to come up with ways to preprocess the data to optimize the retrieval process.\n",
        "\n",
        "\n",
        "#### 3. Image Retrieval and Stitching\n",
        "Implement the function `get_image(lat, long, radius)` with the following behavior:\n",
        "\n",
        "- Fetches images based on latitude (lat), longitude (long), with each image typically covering a 1 km by 1 km area.\n",
        "- The radius parameter should define an area around the point, typically up to `100` meters.\n",
        "- Combine the required images together to cover the required area, especially near the boundaries of two or more images.\n",
        "- Crop the images to a squared area that covers no more than the requested area.\n",
        "- Resize the final stitched image to `256x256` pixels before returning it.\n",
        "- Include error handling for access issues and data errors.\n",
        "\n",
        "The function should handle missing data gracefully by stitching available images or filling gaps with blank data\n",
        "where no images are available.\n",
        "\n",
        "\n",
        "#### 4. Optimization and Benchmarking\n",
        "The primary performance goal is to minimize the response time of the `get_image(lat, long, radius)` function. Given that reading\n",
        "a single .jp2 file can take several seconds or minutes, your objective is to maximize the throughput.\n",
        "\n",
        "To accomplish this, you are encouraged to employ any effective strategy that you see fit. Consider that while the radius parameter\n",
        "remains generally fixed, the latitude and longitude parameters will vary randomly across requests.\n",
        "\n",
        "\n",
        "#### 5. Documentation and Presentation\n",
        "- Documentation: Clearly document the setup and include detailed installation instructions for all dependencies necessary to run your module.\n",
        "- Presentation: Prepare to present your work in 15 minutes, detailing the functionality of your module, the strategies\n",
        "implemented to optimize throughput, and any challenges encountered during the development process. This presentation\n",
        "should effectively communicate the technical details and the usage of your module to both technical and non-technical\n",
        "stakeholders. Provide any additional ideas how to improve your solution that were not required by the challenge or that\n",
        "you didn't have the time to implement\n",
        "\n",
        "\n",
        "### Results\n",
        "The expected deliverables include:\n",
        "\n",
        "1. The Notebook containing all steps of the implementation and results either through Colab share link or as a repository. You can share your copy of the notebook by clicking in the top right *Share* and select *visible for anyone with the link*.\n",
        "2. A `README.md` file or a markdown cell in the notebook with **detailed instructions and explanations**. Feel free to replace this section with your own content.\n",
        "\n",
        "You have **4 days** starting from the time you received the invitation to complete the challenge.\n",
        "When you feel ready share the Colab Notebook with us.\n",
        "\n",
        "**Have Fun!!!**\n"
      ]
    },
    {
      "cell_type": "markdown",
      "id": "fc5afc84",
      "metadata": {
        "id": "fc5afc84",
        "jupyter": {
          "source_hidden": false
        }
      },
      "source": [
        "## Download sample data"
      ]
    },
    {
      "cell_type": "code",
      "execution_count": null,
      "id": "fb028bc6",
      "metadata": {
        "colab": {
          "base_uri": "https://localhost:8080/"
        },
        "id": "fb028bc6",
        "jupyter": {
          "outputs_hidden": false,
          "source_hidden": false
        },
        "outputId": "b901e06f-8f80-4583-b694-ad45409638a7"
      },
      "outputs": [],
      "source": [
        "from urllib.request import urlretrieve\n",
        "SAMPLE_URL = \"https://drive.usercontent.google.com/download?id=140PpLsdnVOQVIp5ia9jT_yvqtcWtF8Gj&export=download&confirm=t&uuid=483b1776-4e25-4976-9837-b498c823754a\"\n",
        "urlretrieve(SAMPLE_URL, \"orthophotos.zip\")"
      ]
    },
    {
      "cell_type": "code",
      "execution_count": null,
      "id": "57d3679e",
      "metadata": {
        "colab": {
          "base_uri": "https://localhost:8080/"
        },
        "id": "57d3679e",
        "jupyter": {
          "outputs_hidden": false,
          "source_hidden": false
        },
        "outputId": "d5a75d57-2413-42f8-cb5e-a686d0453584"
      },
      "outputs": [],
      "source": [
        "import zipfile\n",
        "with zipfile.ZipFile(\"orthophotos.zip\", 'r') as zip_ref:\n",
        "    zip_ref.extractall(\"./\")\n",
        "\n",
        "! ls orthophotos/nw\n"
      ]
    },
    {
      "cell_type": "markdown",
      "id": "fd7d3c04",
      "metadata": {
        "id": "fd7d3c04",
        "jupyter": {
          "source_hidden": false
        }
      },
      "source": [
        "## Orthophoto Sample Extraction\n",
        "\n",
        "Feel free to edit all code from here on out"
      ]
    },
    {
      "cell_type": "code",
      "execution_count": null,
      "id": "6cd744c9",
      "metadata": {
        "id": "6cd744c9",
        "jupyter": {
          "outputs_hidden": false,
          "source_hidden": false
        }
      },
      "outputs": [],
      "source": [
        "from PIL import Image\n",
        "\n",
        "DATASET = \"orthophotos/nw\"\n",
        "\n",
        "\n",
        "# TODO: Implement this function. Feel free to change the function signature if necessary.\n",
        "def get_image(lat: float, long: float, radius: float = 100) -> Image.Image:\n",
        "    raise NotImplementedError(\"This function is not implemented yet.\")"
      ]
    },
    {
      "cell_type": "markdown",
      "id": "b5e7c55c",
      "metadata": {
        "id": "b5e7c55c",
        "jupyter": {
          "source_hidden": false
        }
      },
      "source": [
        "## Performance analysis for `get_image`"
      ]
    },
    {
      "cell_type": "code",
      "execution_count": null,
      "id": "ece8a29c",
      "metadata": {
        "id": "ece8a29c",
        "jupyter": {
          "outputs_hidden": false,
          "source_hidden": false
        }
      },
      "outputs": [],
      "source": [
        "# The function usage will look like:\n",
        "get_image(51.962291, 7.626426, 100)"
      ]
    },
    {
      "cell_type": "code",
      "execution_count": null,
      "id": "37e14896",
      "metadata": {
        "id": "37e14896",
        "jupyter": {
          "source_hidden": false
        }
      },
      "outputs": [],
      "source": [
        "# TODO: Benchmark and optimize the get_image"
      ]
    }
  ],
  "metadata": {
    "colab": {
      "provenance": []
    },
    "kernelspec": {
      "display_name": "Python 3 (ipykernel)",
      "language": "python",
      "name": "python3"
    },
    "language_info": {
      "codemirror_mode": {
        "name": "ipython",
        "version": 3
      },
      "file_extension": ".py",
      "mimetype": "text/x-python",
      "name": "python",
      "nbconvert_exporter": "python",
      "pygments_lexer": "ipython3",
      "version": "3.12.2"
    }
  },
  "nbformat": 4,
  "nbformat_minor": 5
}
